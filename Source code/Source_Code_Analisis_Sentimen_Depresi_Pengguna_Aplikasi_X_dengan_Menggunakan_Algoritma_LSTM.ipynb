{
  "nbformat": 4,
  "nbformat_minor": 0,
  "metadata": {
    "colab": {
      "provenance": []
    },
    "kernelspec": {
      "name": "python3",
      "display_name": "Python 3"
    },
    "language_info": {
      "name": "python"
    }
  },
  "cells": [
    {
      "cell_type": "markdown",
      "source": [
        "## Analisis Sentimen Depresi Pengguna Aplikasi X dengan Menggunakan Algoritma LSTM\n",
        "\n",
        "Kelompok 1:\n",
        "*   Anita Nursi\n",
        "*   Ilham Bariq Fauzan\n",
        "*   Nicholas Ryan Jonathan\n",
        "*   Rizky Pamuji\n",
        "\n",
        "Sumber Dataset:\n",
        "[Sentimental Analysis Tweets](https://www.kaggle.com/datasets/gargmanas/sentimental-analysis-for-tweets)\n",
        "\n",
        "\n",
        "\n",
        "\n",
        "\n"
      ],
      "metadata": {
        "id": "aOisDFbwXbex"
      }
    },
    {
      "cell_type": "markdown",
      "source": [
        "###Latar Belakang\n",
        "\n",
        "Depresi adalah kondisi kesehatan mental yang serius yang dapat memengaruhi perasaan, pikiran, dan perilaku seseorang. Dengan meningkatnya penggunaan media sosial, banyak orang mengekspresikan perasaan mereka secara online, memberikan peluang untuk mendeteksi tanda-tanda depresi melalui analisis teks. Algoritma Long Short-Term Memory (LSTM) dalam bidang pemrosesan bahasa alami (NLP) telah terbukti efektif dalam menangkap pola bahasa yang menunjukkan kondisi emosional seseorang, menjadikannya alat yang potensial untuk analisis sentimen depresi."
      ],
      "metadata": {
        "id": "g39UogdtcwTn"
      }
    },
    {
      "cell_type": "markdown",
      "source": [
        "###Tujuan\n",
        "\n",
        "1.   **Mengembangkan Model LSTM**: Membuat dan melatih model LSTM untuk mengidentifikasi dan mengklasifikasikan sentimen teks pengguna yang mengindikasikan depresi.\n",
        "2.   **Evaluasi Kinerja Model**: Mengukur akurasi dari model dalam mengklasifikasikan tingkat depresi berdasarkan teks.\n",
        "3. **Meningkatkan Kesadaran Kesehatan Mental**: Memfasilitasi deteksi dini tanda-tanda depresi melalui analisis sentimen, yang dapat membantu dalam memberikan intervensi yang lebih cepat.\n",
        "\n",
        "\n",
        "\n",
        "\n",
        "\n",
        "\n"
      ],
      "metadata": {
        "id": "pBlGb124g-h9"
      }
    },
    {
      "cell_type": "markdown",
      "source": [
        "###Pendekatan\n",
        "\n",
        "Penelitian ini menggunakan algoritma LSTM untuk analisis sentimen depresi. Langkah-langkahnya meliputi:\n",
        "\n",
        "1. **Pengumpulan Data**: Mengumpulkan data teks dari platform media sosial yang mengandung ekspresi emosional.\n",
        "2. **Pemrosesan Awal Data**: Melakukan pembersihan data, tokenisasi, dan konversi teks ke dalam vektor numerik menggunakan teknik embedding.\n",
        "3. **Pengembangan Model LSTM**: Membangun model dengan lapisan embedding, LSTM, dan Dense untuk klasifikasi sentimen.\n",
        "4. **Pelatihan dan Evaluasi**: Melatih model menggunakan data latih dan mengevaluasi kinerjanya dengan data uji."
      ],
      "metadata": {
        "id": "l-nozC1iht79"
      }
    },
    {
      "cell_type": "markdown",
      "source": [
        "###Hipotesis\n",
        "\n",
        "1. **Efektivitas LSTM**: Algoritma LSTM mampu mengidentifikasi dan mengklasifikasikan sentimen teks dengan tingkat akurasi yang tinggi, terutama dalam mendeteksi tanda-tanda depresi.\n",
        "2. **Pola Bahasa**: Pengguna yang mengalami depresi akan menunjukkan pola bahasa tertentu yang dapat dikenali oleh model LSTM, memungkinkan deteksi depresi secara lebih akurat.\n",
        "\n",
        "Dengan menguji hipotesis ini, penelitian ini bertujuan untuk memberikan kontribusi signifikan dalam bidang analisis sentimen dan kesehatan mental."
      ],
      "metadata": {
        "id": "m9l_JQI0ixGJ"
      }
    },
    {
      "cell_type": "markdown",
      "source": [
        "### Import Library"
      ],
      "metadata": {
        "id": "gzMamLyZgZPR"
      }
    },
    {
      "cell_type": "code",
      "source": [
        "# Mengimpor library yang dibutuhkan dalam project\n",
        "import gdown\n",
        "import tensorflow as tf\n",
        "import numpy as np\n",
        "import pandas as pd\n",
        "from sklearn.model_selection import train_test_split\n",
        "from tensorflow.keras.preprocessing.text import Tokenizer\n",
        "from tensorflow.keras.preprocessing.sequence import pad_sequences\n",
        "import re\n",
        "import matplotlib.pyplot as plt\n",
        "from sklearn.utils.class_weight import compute_class_weight\n",
        "from sklearn.metrics import accuracy_score, classification_report\n",
        "import seaborn as sns\n",
        "from sklearn.metrics import confusion_matrix, classification_report, accuracy_score"
      ],
      "metadata": {
        "id": "386Nqdr5ZvqA"
      },
      "execution_count": 1,
      "outputs": []
    },
    {
      "cell_type": "markdown",
      "source": [
        "### Eksplorasi Dataset"
      ],
      "metadata": {
        "id": "Q731TsTUgLDQ"
      }
    },
    {
      "cell_type": "code",
      "source": [
        "# Fungsi untuk memuat data csv dari google drive\n",
        "def load_data_from_gdrive(file_id, output):\n",
        "    # URL untuk mengunduh file dari Google Drive\n",
        "    url = f\"https://drive.google.com/uc?id={file_id}\"\n",
        "    gdown.download(url, output, quiet=False)\n",
        "    df = pd.read_csv(output, index_col=0)\n",
        "    return df"
      ],
      "metadata": {
        "id": "VD_GdaD9ZxlV"
      },
      "execution_count": 2,
      "outputs": []
    },
    {
      "cell_type": "code",
      "source": [
        "# Variabel file-id dan output dari dataset di gdrive\n",
        "file_id = '1DkKUAh97vgL8ptU00WPmYy9aqJFuQEcN'\n",
        "output = 'sentiment_tweets3.csv'"
      ],
      "metadata": {
        "id": "otyc5h1VZ7Tr"
      },
      "execution_count": 3,
      "outputs": []
    },
    {
      "cell_type": "code",
      "source": [
        "# Memanggil fungsi untuk mengambil dataset\n",
        "df = load_data_from_gdrive(file_id, output)"
      ],
      "metadata": {
        "colab": {
          "base_uri": "https://localhost:8080/"
        },
        "id": "zqyuMxNHcBuG",
        "outputId": "083c98e2-49b9-4d59-e966-ec5bef867e6c"
      },
      "execution_count": 4,
      "outputs": [
        {
          "output_type": "stream",
          "name": "stderr",
          "text": [
            "Downloading...\n",
            "From: https://drive.google.com/uc?id=1DkKUAh97vgL8ptU00WPmYy9aqJFuQEcN\n",
            "To: /content/sentiment_tweets3.csv\n",
            "100%|██████████| 1.08M/1.08M [00:00<00:00, 15.7MB/s]\n"
          ]
        }
      ]
    },
    {
      "cell_type": "code",
      "source": [
        "df.head()"
      ],
      "metadata": {
        "colab": {
          "base_uri": "https://localhost:8080/",
          "height": 237
        },
        "id": "pYr2KfeXcJWN",
        "outputId": "377063fe-0122-448d-f6aa-91d780c7c82f"
      },
      "execution_count": 5,
      "outputs": [
        {
          "output_type": "execute_result",
          "data": {
            "text/plain": [
              "                                      message to examine  label\n",
              "Index                                                          \n",
              "106    just had a real good moment. i missssssssss hi...      0\n",
              "217           is reading manga  http://plurk.com/p/mzp1e      0\n",
              "220    @comeagainjen http://twitpic.com/2y2lx - http:...      0\n",
              "288    @lapcat Need to send 'em to my accountant tomo...      0\n",
              "540        ADD ME ON MYSPACE!!!  myspace.com/LookThunder      0"
            ],
            "text/html": [
              "\n",
              "  <div id=\"df-e98a4c65-73de-4a3e-bf06-e5364fa1df15\" class=\"colab-df-container\">\n",
              "    <div>\n",
              "<style scoped>\n",
              "    .dataframe tbody tr th:only-of-type {\n",
              "        vertical-align: middle;\n",
              "    }\n",
              "\n",
              "    .dataframe tbody tr th {\n",
              "        vertical-align: top;\n",
              "    }\n",
              "\n",
              "    .dataframe thead th {\n",
              "        text-align: right;\n",
              "    }\n",
              "</style>\n",
              "<table border=\"1\" class=\"dataframe\">\n",
              "  <thead>\n",
              "    <tr style=\"text-align: right;\">\n",
              "      <th></th>\n",
              "      <th>message to examine</th>\n",
              "      <th>label</th>\n",
              "    </tr>\n",
              "    <tr>\n",
              "      <th>Index</th>\n",
              "      <th></th>\n",
              "      <th></th>\n",
              "    </tr>\n",
              "  </thead>\n",
              "  <tbody>\n",
              "    <tr>\n",
              "      <th>106</th>\n",
              "      <td>just had a real good moment. i missssssssss hi...</td>\n",
              "      <td>0</td>\n",
              "    </tr>\n",
              "    <tr>\n",
              "      <th>217</th>\n",
              "      <td>is reading manga  http://plurk.com/p/mzp1e</td>\n",
              "      <td>0</td>\n",
              "    </tr>\n",
              "    <tr>\n",
              "      <th>220</th>\n",
              "      <td>@comeagainjen http://twitpic.com/2y2lx - http:...</td>\n",
              "      <td>0</td>\n",
              "    </tr>\n",
              "    <tr>\n",
              "      <th>288</th>\n",
              "      <td>@lapcat Need to send 'em to my accountant tomo...</td>\n",
              "      <td>0</td>\n",
              "    </tr>\n",
              "    <tr>\n",
              "      <th>540</th>\n",
              "      <td>ADD ME ON MYSPACE!!!  myspace.com/LookThunder</td>\n",
              "      <td>0</td>\n",
              "    </tr>\n",
              "  </tbody>\n",
              "</table>\n",
              "</div>\n",
              "    <div class=\"colab-df-buttons\">\n",
              "\n",
              "  <div class=\"colab-df-container\">\n",
              "    <button class=\"colab-df-convert\" onclick=\"convertToInteractive('df-e98a4c65-73de-4a3e-bf06-e5364fa1df15')\"\n",
              "            title=\"Convert this dataframe to an interactive table.\"\n",
              "            style=\"display:none;\">\n",
              "\n",
              "  <svg xmlns=\"http://www.w3.org/2000/svg\" height=\"24px\" viewBox=\"0 -960 960 960\">\n",
              "    <path d=\"M120-120v-720h720v720H120Zm60-500h600v-160H180v160Zm220 220h160v-160H400v160Zm0 220h160v-160H400v160ZM180-400h160v-160H180v160Zm440 0h160v-160H620v160ZM180-180h160v-160H180v160Zm440 0h160v-160H620v160Z\"/>\n",
              "  </svg>\n",
              "    </button>\n",
              "\n",
              "  <style>\n",
              "    .colab-df-container {\n",
              "      display:flex;\n",
              "      gap: 12px;\n",
              "    }\n",
              "\n",
              "    .colab-df-convert {\n",
              "      background-color: #E8F0FE;\n",
              "      border: none;\n",
              "      border-radius: 50%;\n",
              "      cursor: pointer;\n",
              "      display: none;\n",
              "      fill: #1967D2;\n",
              "      height: 32px;\n",
              "      padding: 0 0 0 0;\n",
              "      width: 32px;\n",
              "    }\n",
              "\n",
              "    .colab-df-convert:hover {\n",
              "      background-color: #E2EBFA;\n",
              "      box-shadow: 0px 1px 2px rgba(60, 64, 67, 0.3), 0px 1px 3px 1px rgba(60, 64, 67, 0.15);\n",
              "      fill: #174EA6;\n",
              "    }\n",
              "\n",
              "    .colab-df-buttons div {\n",
              "      margin-bottom: 4px;\n",
              "    }\n",
              "\n",
              "    [theme=dark] .colab-df-convert {\n",
              "      background-color: #3B4455;\n",
              "      fill: #D2E3FC;\n",
              "    }\n",
              "\n",
              "    [theme=dark] .colab-df-convert:hover {\n",
              "      background-color: #434B5C;\n",
              "      box-shadow: 0px 1px 3px 1px rgba(0, 0, 0, 0.15);\n",
              "      filter: drop-shadow(0px 1px 2px rgba(0, 0, 0, 0.3));\n",
              "      fill: #FFFFFF;\n",
              "    }\n",
              "  </style>\n",
              "\n",
              "    <script>\n",
              "      const buttonEl =\n",
              "        document.querySelector('#df-e98a4c65-73de-4a3e-bf06-e5364fa1df15 button.colab-df-convert');\n",
              "      buttonEl.style.display =\n",
              "        google.colab.kernel.accessAllowed ? 'block' : 'none';\n",
              "\n",
              "      async function convertToInteractive(key) {\n",
              "        const element = document.querySelector('#df-e98a4c65-73de-4a3e-bf06-e5364fa1df15');\n",
              "        const dataTable =\n",
              "          await google.colab.kernel.invokeFunction('convertToInteractive',\n",
              "                                                    [key], {});\n",
              "        if (!dataTable) return;\n",
              "\n",
              "        const docLinkHtml = 'Like what you see? Visit the ' +\n",
              "          '<a target=\"_blank\" href=https://colab.research.google.com/notebooks/data_table.ipynb>data table notebook</a>'\n",
              "          + ' to learn more about interactive tables.';\n",
              "        element.innerHTML = '';\n",
              "        dataTable['output_type'] = 'display_data';\n",
              "        await google.colab.output.renderOutput(dataTable, element);\n",
              "        const docLink = document.createElement('div');\n",
              "        docLink.innerHTML = docLinkHtml;\n",
              "        element.appendChild(docLink);\n",
              "      }\n",
              "    </script>\n",
              "  </div>\n",
              "\n",
              "\n",
              "<div id=\"df-fb81d770-d0fc-48e8-aa24-2a3cbe9417e5\">\n",
              "  <button class=\"colab-df-quickchart\" onclick=\"quickchart('df-fb81d770-d0fc-48e8-aa24-2a3cbe9417e5')\"\n",
              "            title=\"Suggest charts\"\n",
              "            style=\"display:none;\">\n",
              "\n",
              "<svg xmlns=\"http://www.w3.org/2000/svg\" height=\"24px\"viewBox=\"0 0 24 24\"\n",
              "     width=\"24px\">\n",
              "    <g>\n",
              "        <path d=\"M19 3H5c-1.1 0-2 .9-2 2v14c0 1.1.9 2 2 2h14c1.1 0 2-.9 2-2V5c0-1.1-.9-2-2-2zM9 17H7v-7h2v7zm4 0h-2V7h2v10zm4 0h-2v-4h2v4z\"/>\n",
              "    </g>\n",
              "</svg>\n",
              "  </button>\n",
              "\n",
              "<style>\n",
              "  .colab-df-quickchart {\n",
              "      --bg-color: #E8F0FE;\n",
              "      --fill-color: #1967D2;\n",
              "      --hover-bg-color: #E2EBFA;\n",
              "      --hover-fill-color: #174EA6;\n",
              "      --disabled-fill-color: #AAA;\n",
              "      --disabled-bg-color: #DDD;\n",
              "  }\n",
              "\n",
              "  [theme=dark] .colab-df-quickchart {\n",
              "      --bg-color: #3B4455;\n",
              "      --fill-color: #D2E3FC;\n",
              "      --hover-bg-color: #434B5C;\n",
              "      --hover-fill-color: #FFFFFF;\n",
              "      --disabled-bg-color: #3B4455;\n",
              "      --disabled-fill-color: #666;\n",
              "  }\n",
              "\n",
              "  .colab-df-quickchart {\n",
              "    background-color: var(--bg-color);\n",
              "    border: none;\n",
              "    border-radius: 50%;\n",
              "    cursor: pointer;\n",
              "    display: none;\n",
              "    fill: var(--fill-color);\n",
              "    height: 32px;\n",
              "    padding: 0;\n",
              "    width: 32px;\n",
              "  }\n",
              "\n",
              "  .colab-df-quickchart:hover {\n",
              "    background-color: var(--hover-bg-color);\n",
              "    box-shadow: 0 1px 2px rgba(60, 64, 67, 0.3), 0 1px 3px 1px rgba(60, 64, 67, 0.15);\n",
              "    fill: var(--button-hover-fill-color);\n",
              "  }\n",
              "\n",
              "  .colab-df-quickchart-complete:disabled,\n",
              "  .colab-df-quickchart-complete:disabled:hover {\n",
              "    background-color: var(--disabled-bg-color);\n",
              "    fill: var(--disabled-fill-color);\n",
              "    box-shadow: none;\n",
              "  }\n",
              "\n",
              "  .colab-df-spinner {\n",
              "    border: 2px solid var(--fill-color);\n",
              "    border-color: transparent;\n",
              "    border-bottom-color: var(--fill-color);\n",
              "    animation:\n",
              "      spin 1s steps(1) infinite;\n",
              "  }\n",
              "\n",
              "  @keyframes spin {\n",
              "    0% {\n",
              "      border-color: transparent;\n",
              "      border-bottom-color: var(--fill-color);\n",
              "      border-left-color: var(--fill-color);\n",
              "    }\n",
              "    20% {\n",
              "      border-color: transparent;\n",
              "      border-left-color: var(--fill-color);\n",
              "      border-top-color: var(--fill-color);\n",
              "    }\n",
              "    30% {\n",
              "      border-color: transparent;\n",
              "      border-left-color: var(--fill-color);\n",
              "      border-top-color: var(--fill-color);\n",
              "      border-right-color: var(--fill-color);\n",
              "    }\n",
              "    40% {\n",
              "      border-color: transparent;\n",
              "      border-right-color: var(--fill-color);\n",
              "      border-top-color: var(--fill-color);\n",
              "    }\n",
              "    60% {\n",
              "      border-color: transparent;\n",
              "      border-right-color: var(--fill-color);\n",
              "    }\n",
              "    80% {\n",
              "      border-color: transparent;\n",
              "      border-right-color: var(--fill-color);\n",
              "      border-bottom-color: var(--fill-color);\n",
              "    }\n",
              "    90% {\n",
              "      border-color: transparent;\n",
              "      border-bottom-color: var(--fill-color);\n",
              "    }\n",
              "  }\n",
              "</style>\n",
              "\n",
              "  <script>\n",
              "    async function quickchart(key) {\n",
              "      const quickchartButtonEl =\n",
              "        document.querySelector('#' + key + ' button');\n",
              "      quickchartButtonEl.disabled = true;  // To prevent multiple clicks.\n",
              "      quickchartButtonEl.classList.add('colab-df-spinner');\n",
              "      try {\n",
              "        const charts = await google.colab.kernel.invokeFunction(\n",
              "            'suggestCharts', [key], {});\n",
              "      } catch (error) {\n",
              "        console.error('Error during call to suggestCharts:', error);\n",
              "      }\n",
              "      quickchartButtonEl.classList.remove('colab-df-spinner');\n",
              "      quickchartButtonEl.classList.add('colab-df-quickchart-complete');\n",
              "    }\n",
              "    (() => {\n",
              "      let quickchartButtonEl =\n",
              "        document.querySelector('#df-fb81d770-d0fc-48e8-aa24-2a3cbe9417e5 button');\n",
              "      quickchartButtonEl.style.display =\n",
              "        google.colab.kernel.accessAllowed ? 'block' : 'none';\n",
              "    })();\n",
              "  </script>\n",
              "</div>\n",
              "\n",
              "    </div>\n",
              "  </div>\n"
            ],
            "application/vnd.google.colaboratory.intrinsic+json": {
              "type": "dataframe",
              "variable_name": "df",
              "summary": "{\n  \"name\": \"df\",\n  \"rows\": 10314,\n  \"fields\": [\n    {\n      \"column\": \"Index\",\n      \"properties\": {\n        \"dtype\": \"number\",\n        \"std\": 261688,\n        \"min\": 106,\n        \"max\": 802313,\n        \"num_unique_values\": 10314,\n        \"samples\": [\n          251196,\n          504883,\n          787069\n        ],\n        \"semantic_type\": \"\",\n        \"description\": \"\"\n      }\n    },\n    {\n      \"column\": \"message to examine\",\n      \"properties\": {\n        \"dtype\": \"string\",\n        \"num_unique_values\": 10282,\n        \"samples\": [\n          \"@Thorpeland No signal is the message that comes up on most monitors here when it's on but has no source. \",\n          \"1. The emotional ride of #perimenopause is ROUGH. I woke up fine, but then felt anger, irritation, just a feeling of wanting to break out, then fell down into a pit of depression. Man, the depression is frustrating and it definitely feels hormonal. I've been working on nutrition.\",\n          \"@dean2105 Stress-free is the way to be \"\n        ],\n        \"semantic_type\": \"\",\n        \"description\": \"\"\n      }\n    },\n    {\n      \"column\": \"label\",\n      \"properties\": {\n        \"dtype\": \"number\",\n        \"std\": 0,\n        \"min\": 0,\n        \"max\": 1,\n        \"num_unique_values\": 2,\n        \"samples\": [\n          1,\n          0\n        ],\n        \"semantic_type\": \"\",\n        \"description\": \"\"\n      }\n    }\n  ]\n}"
            }
          },
          "metadata": {},
          "execution_count": 5
        }
      ]
    },
    {
      "cell_type": "code",
      "source": [
        "# Cetak jumlah baris\n",
        "print(\"Jumlah baris:\", len(df))"
      ],
      "metadata": {
        "colab": {
          "base_uri": "https://localhost:8080/"
        },
        "id": "ykNj_qFfZ-M4",
        "outputId": "518d6d35-bf67-4aab-fd0b-55a1ba8b9001"
      },
      "execution_count": 6,
      "outputs": [
        {
          "output_type": "stream",
          "name": "stdout",
          "text": [
            "Jumlah baris: 10314\n"
          ]
        }
      ]
    },
    {
      "cell_type": "code",
      "source": [
        "# Visualisasi distribusi label\n",
        "def plot_label_distribution(df):\n",
        "    label_counts = df['label'].value_counts()\n",
        "    plt.figure(figsize=(6, 4))\n",
        "    plt.bar(label_counts.index, label_counts.values, color=['blue', 'red'])\n",
        "    plt.xlabel('Label')\n",
        "    plt.ylabel('Jumlah')\n",
        "    plt.title('Distribusi Label')\n",
        "    plt.xticks([0, 1], ['Tidak ada tanda depresi', 'Ada tanda depresi'])\n",
        "    plt.show()\n",
        "\n",
        "plot_label_distribution(df)"
      ],
      "metadata": {
        "colab": {
          "base_uri": "https://localhost:8080/",
          "height": 410
        },
        "id": "jqWXQGxMVISn",
        "outputId": "1d53d25a-f51f-4486-cc0c-162d667c793e"
      },
      "execution_count": 7,
      "outputs": [
        {
          "output_type": "display_data",
          "data": {
            "text/plain": [
              "<Figure size 600x400 with 1 Axes>"
            ],
            "image/png": "[encoded data removed]"
          },
          "metadata": {}
        }
      ]
    },
    {
      "cell_type": "markdown",
      "source": [
        "### Preprocessing Data\n",
        "\n",
        "Pada bagian ini, data pada kolom `message to examine` akan melalui preprocessing untuk mempersiapkan data dengan cara:\n",
        "1. Menghapus URL yang terdapat pada dataset\n",
        "2. Menghapus tag pengguna X yang dimention oleh pengguna lain\n",
        "3. Menghapus karakter khusus selain alfabet\n",
        "4. Mengubah semua karakter menjadi huruf kecil\n",
        "5. Menghapus spasi di sekitar teks\n",
        "6. Menghapus baris dengan nilai kosong\n",
        "7. Mereset index"
      ],
      "metadata": {
        "id": "zw7vMFaNvoIA"
      }
    },
    {
      "cell_type": "code",
      "source": [
        "# Mendefinisikan fungsi untuk melakukan preprocessing data\n",
        "def preprocess_text(text):\n",
        "    # Menghapus URL\n",
        "    text = re.sub(r'http\\S+', '', text)\n",
        "\n",
        "    # Menghapus tag pengguna Twitter (@username)\n",
        "    text = re.sub(r'@[A-Za-z0-9_]+', '', text)\n",
        "\n",
        "    # Menghapus karakter khusus\n",
        "    text = re.sub(r'[^a-zA-Z\\s]', '', text)\n",
        "\n",
        "    # Konversi teks menjadi lowercase\n",
        "    text = text.lower()\n",
        "\n",
        "    # Menghapus spasi di sekitar teks\n",
        "    text = text.strip()\n",
        "\n",
        "    return text"
      ],
      "metadata": {
        "id": "AkU_ALE0Z3ve"
      },
      "execution_count": 8,
      "outputs": []
    },
    {
      "cell_type": "code",
      "source": [
        "# Menerapkan preprocessing data pada kolom 'message to examine'\n",
        "df['message to examine'] = df['message to examine'].apply(preprocess_text)"
      ],
      "metadata": {
        "id": "aKc8oRgCcKLP"
      },
      "execution_count": 9,
      "outputs": []
    },
    {
      "cell_type": "code",
      "source": [
        "# Memeriksa nilai kosong atau spasi\n",
        "df['message to examine'].replace('', np.nan, inplace=True)"
      ],
      "metadata": {
        "id": "JJWgaRwsZ_kY"
      },
      "execution_count": 10,
      "outputs": []
    },
    {
      "cell_type": "code",
      "source": [
        "# Menghapus baris dengan nilai kosong dan mereset index\n",
        "df.dropna(subset=['message to examine'], inplace=True)\n",
        "df.reset_index(drop=True, inplace=True)"
      ],
      "metadata": {
        "id": "tY7jCb-RaNdh"
      },
      "execution_count": 11,
      "outputs": []
    },
    {
      "cell_type": "code",
      "source": [
        "# Cetak jumlah baris setelah penghapusan\n",
        "print(\"Jumlah baris setelah penghapusan:\", len(df))"
      ],
      "metadata": {
        "colab": {
          "base_uri": "https://localhost:8080/"
        },
        "id": "he4ADgC8aOgq",
        "outputId": "e1107561-e595-4917-97ae-025b97ad401b"
      },
      "execution_count": 12,
      "outputs": [
        {
          "output_type": "stream",
          "name": "stdout",
          "text": [
            "Jumlah baris setelah penghapusan: 10286\n"
          ]
        }
      ]
    },
    {
      "cell_type": "code",
      "source": [
        "df.head()"
      ],
      "metadata": {
        "colab": {
          "base_uri": "https://localhost:8080/",
          "height": 206
        },
        "id": "thUmWAa3cGOe",
        "outputId": "34ba46a4-597b-4f1c-cbcb-be5e6a760dc6"
      },
      "execution_count": 13,
      "outputs": [
        {
          "output_type": "execute_result",
          "data": {
            "text/plain": [
              "                                  message to examine  label\n",
              "0  just had a real good moment i missssssssss him...      0\n",
              "1                                   is reading manga      0\n",
              "2  need to send em to my accountant tomorrow oddl...      0\n",
              "3           add me on myspace  myspacecomlookthunder      0\n",
              "4                so sleepy good times tonight though      0"
            ],
            "text/html": [
              "\n",
              "  <div id=\"df-2da943a6-8995-42b1-8a11-5716772ce77c\" class=\"colab-df-container\">\n",
              "    <div>\n",
              "<style scoped>\n",
              "    .dataframe tbody tr th:only-of-type {\n",
              "        vertical-align: middle;\n",
              "    }\n",
              "\n",
              "    .dataframe tbody tr th {\n",
              "        vertical-align: top;\n",
              "    }\n",
              "\n",
              "    .dataframe thead th {\n",
              "        text-align: right;\n",
              "    }\n",
              "</style>\n",
              "<table border=\"1\" class=\"dataframe\">\n",
              "  <thead>\n",
              "    <tr style=\"text-align: right;\">\n",
              "      <th></th>\n",
              "      <th>message to examine</th>\n",
              "      <th>label</th>\n",
              "    </tr>\n",
              "  </thead>\n",
              "  <tbody>\n",
              "    <tr>\n",
              "      <th>0</th>\n",
              "      <td>just had a real good moment i missssssssss him...</td>\n",
              "      <td>0</td>\n",
              "    </tr>\n",
              "    <tr>\n",
              "      <th>1</th>\n",
              "      <td>is reading manga</td>\n",
              "      <td>0</td>\n",
              "    </tr>\n",
              "    <tr>\n",
              "      <th>2</th>\n",
              "      <td>need to send em to my accountant tomorrow oddl...</td>\n",
              "      <td>0</td>\n",
              "    </tr>\n",
              "    <tr>\n",
              "      <th>3</th>\n",
              "      <td>add me on myspace  myspacecomlookthunder</td>\n",
              "      <td>0</td>\n",
              "    </tr>\n",
              "    <tr>\n",
              "      <th>4</th>\n",
              "      <td>so sleepy good times tonight though</td>\n",
              "      <td>0</td>\n",
              "    </tr>\n",
              "  </tbody>\n",
              "</table>\n",
              "</div>\n",
              "    <div class=\"colab-df-buttons\">\n",
              "\n",
              "  <div class=\"colab-df-container\">\n",
              "    <button class=\"colab-df-convert\" onclick=\"convertToInteractive('df-2da943a6-8995-42b1-8a11-5716772ce77c')\"\n",
              "            title=\"Convert this dataframe to an interactive table.\"\n",
              "            style=\"display:none;\">\n",
              "\n",
              "  <svg xmlns=\"http://www.w3.org/2000/svg\" height=\"24px\" viewBox=\"0 -960 960 960\">\n",
              "    <path d=\"M120-120v-720h720v720H120Zm60-500h600v-160H180v160Zm220 220h160v-160H400v160Zm0 220h160v-160H400v160ZM180-400h160v-160H180v160Zm440 0h160v-160H620v160ZM180-180h160v-160H180v160Zm440 0h160v-160H620v160Z\"/>\n",
              "  </svg>\n",
              "    </button>\n",
              "\n",
              "  <style>\n",
              "    .colab-df-container {\n",
              "      display:flex;\n",
              "      gap: 12px;\n",
              "    }\n",
              "\n",
              "    .colab-df-convert {\n",
              "      background-color: #E8F0FE;\n",
              "      border: none;\n",
              "      border-radius: 50%;\n",
              "      cursor: pointer;\n",
              "      display: none;\n",
              "      fill: #1967D2;\n",
              "      height: 32px;\n",
              "      padding: 0 0 0 0;\n",
              "      width: 32px;\n",
              "    }\n",
              "\n",
              "    .colab-df-convert:hover {\n",
              "      background-color: #E2EBFA;\n",
              "      box-shadow: 0px 1px 2px rgba(60, 64, 67, 0.3), 0px 1px 3px 1px rgba(60, 64, 67, 0.15);\n",
              "      fill: #174EA6;\n",
              "    }\n",
              "\n",
              "    .colab-df-buttons div {\n",
              "      margin-bottom: 4px;\n",
              "    }\n",
              "\n",
              "    [theme=dark] .colab-df-convert {\n",
              "      background-color: #3B4455;\n",
              "      fill: #D2E3FC;\n",
              "    }\n",
              "\n",
              "    [theme=dark] .colab-df-convert:hover {\n",
              "      background-color: #434B5C;\n",
              "      box-shadow: 0px 1px 3px 1px rgba(0, 0, 0, 0.15);\n",
              "      filter: drop-shadow(0px 1px 2px rgba(0, 0, 0, 0.3));\n",
              "      fill: #FFFFFF;\n",
              "    }\n",
              "  </style>\n",
              "\n",
              "    <script>\n",
              "      const buttonEl =\n",
              "        document.querySelector('#df-2da943a6-8995-42b1-8a11-5716772ce77c button.colab-df-convert');\n",
              "      buttonEl.style.display =\n",
              "        google.colab.kernel.accessAllowed ? 'block' : 'none';\n",
              "\n",
              "      async function convertToInteractive(key) {\n",
              "        const element = document.querySelector('#df-2da943a6-8995-42b1-8a11-5716772ce77c');\n",
              "        const dataTable =\n",
              "          await google.colab.kernel.invokeFunction('convertToInteractive',\n",
              "                                                    [key], {});\n",
              "        if (!dataTable) return;\n",
              "\n",
              "        const docLinkHtml = 'Like what you see? Visit the ' +\n",
              "          '<a target=\"_blank\" href=https://colab.research.google.com/notebooks/data_table.ipynb>data table notebook</a>'\n",
              "          + ' to learn more about interactive tables.';\n",
              "        element.innerHTML = '';\n",
              "        dataTable['output_type'] = 'display_data';\n",
              "        await google.colab.output.renderOutput(dataTable, element);\n",
              "        const docLink = document.createElement('div');\n",
              "        docLink.innerHTML = docLinkHtml;\n",
              "        element.appendChild(docLink);\n",
              "      }\n",
              "    </script>\n",
              "  </div>\n",
              "\n",
              "\n",
              "<div id=\"df-78172e94-cfd0-4fee-bc71-f8490fc3c399\">\n",
              "  <button class=\"colab-df-quickchart\" onclick=\"quickchart('df-78172e94-cfd0-4fee-bc71-f8490fc3c399')\"\n",
              "            title=\"Suggest charts\"\n",
              "            style=\"display:none;\">\n",
              "\n",
              "<svg xmlns=\"http://www.w3.org/2000/svg\" height=\"24px\"viewBox=\"0 0 24 24\"\n",
              "     width=\"24px\">\n",
              "    <g>\n",
              "        <path d=\"M19 3H5c-1.1 0-2 .9-2 2v14c0 1.1.9 2 2 2h14c1.1 0 2-.9 2-2V5c0-1.1-.9-2-2-2zM9 17H7v-7h2v7zm4 0h-2V7h2v10zm4 0h-2v-4h2v4z\"/>\n",
              "    </g>\n",
              "</svg>\n",
              "  </button>\n",
              "\n",
              "<style>\n",
              "  .colab-df-quickchart {\n",
              "      --bg-color: #E8F0FE;\n",
              "      --fill-color: #1967D2;\n",
              "      --hover-bg-color: #E2EBFA;\n",
              "      --hover-fill-color: #174EA6;\n",
              "      --disabled-fill-color: #AAA;\n",
              "      --disabled-bg-color: #DDD;\n",
              "  }\n",
              "\n",
              "  [theme=dark] .colab-df-quickchart {\n",
              "      --bg-color: #3B4455;\n",
              "      --fill-color: #D2E3FC;\n",
              "      --hover-bg-color: #434B5C;\n",
              "      --hover-fill-color: #FFFFFF;\n",
              "      --disabled-bg-color: #3B4455;\n",
              "      --disabled-fill-color: #666;\n",
              "  }\n",
              "\n",
              "  .colab-df-quickchart {\n",
              "    background-color: var(--bg-color);\n",
              "    border: none;\n",
              "    border-radius: 50%;\n",
              "    cursor: pointer;\n",
              "    display: none;\n",
              "    fill: var(--fill-color);\n",
              "    height: 32px;\n",
              "    padding: 0;\n",
              "    width: 32px;\n",
              "  }\n",
              "\n",
              "  .colab-df-quickchart:hover {\n",
              "    background-color: var(--hover-bg-color);\n",
              "    box-shadow: 0 1px 2px rgba(60, 64, 67, 0.3), 0 1px 3px 1px rgba(60, 64, 67, 0.15);\n",
              "    fill: var(--button-hover-fill-color);\n",
              "  }\n",
              "\n",
              "  .colab-df-quickchart-complete:disabled,\n",
              "  .colab-df-quickchart-complete:disabled:hover {\n",
              "    background-color: var(--disabled-bg-color);\n",
              "    fill: var(--disabled-fill-color);\n",
              "    box-shadow: none;\n",
              "  }\n",
              "\n",
              "  .colab-df-spinner {\n",
              "    border: 2px solid var(--fill-color);\n",
              "    border-color: transparent;\n",
              "    border-bottom-color: var(--fill-color);\n",
              "    animation:\n",
              "      spin 1s steps(1) infinite;\n",
              "  }\n",
              "\n",
              "  @keyframes spin {\n",
              "    0% {\n",
              "      border-color: transparent;\n",
              "      border-bottom-color: var(--fill-color);\n",
              "      border-left-color: var(--fill-color);\n",
              "    }\n",
              "    20% {\n",
              "      border-color: transparent;\n",
              "      border-left-color: var(--fill-color);\n",
              "      border-top-color: var(--fill-color);\n",
              "    }\n",
              "    30% {\n",
              "      border-color: transparent;\n",
              "      border-left-color: var(--fill-color);\n",
              "      border-top-color: var(--fill-color);\n",
              "      border-right-color: var(--fill-color);\n",
              "    }\n",
              "    40% {\n",
              "      border-color: transparent;\n",
              "      border-right-color: var(--fill-color);\n",
              "      border-top-color: var(--fill-color);\n",
              "    }\n",
              "    60% {\n",
              "      border-color: transparent;\n",
              "      border-right-color: var(--fill-color);\n",
              "    }\n",
              "    80% {\n",
              "      border-color: transparent;\n",
              "      border-right-color: var(--fill-color);\n",
              "      border-bottom-color: var(--fill-color);\n",
              "    }\n",
              "    90% {\n",
              "      border-color: transparent;\n",
              "      border-bottom-color: var(--fill-color);\n",
              "    }\n",
              "  }\n",
              "</style>\n",
              "\n",
              "  <script>\n",
              "    async function quickchart(key) {\n",
              "      const quickchartButtonEl =\n",
              "        document.querySelector('#' + key + ' button');\n",
              "      quickchartButtonEl.disabled = true;  // To prevent multiple clicks.\n",
              "      quickchartButtonEl.classList.add('colab-df-spinner');\n",
              "      try {\n",
              "        const charts = await google.colab.kernel.invokeFunction(\n",
              "            'suggestCharts', [key], {});\n",
              "      } catch (error) {\n",
              "        console.error('Error during call to suggestCharts:', error);\n",
              "      }\n",
              "      quickchartButtonEl.classList.remove('colab-df-spinner');\n",
              "      quickchartButtonEl.classList.add('colab-df-quickchart-complete');\n",
              "    }\n",
              "    (() => {\n",
              "      let quickchartButtonEl =\n",
              "        document.querySelector('#df-78172e94-cfd0-4fee-bc71-f8490fc3c399 button');\n",
              "      quickchartButtonEl.style.display =\n",
              "        google.colab.kernel.accessAllowed ? 'block' : 'none';\n",
              "    })();\n",
              "  </script>\n",
              "</div>\n",
              "\n",
              "    </div>\n",
              "  </div>\n"
            ],
            "application/vnd.google.colaboratory.intrinsic+json": {
              "type": "dataframe",
              "variable_name": "df",
              "summary": "{\n  \"name\": \"df\",\n  \"rows\": 10286,\n  \"fields\": [\n    {\n      \"column\": \"message to examine\",\n      \"properties\": {\n        \"dtype\": \"string\",\n        \"num_unique_values\": 10113,\n        \"samples\": [\n          \"smiling even when its forced indicates to your mind that youre happy this in turn causes the brain to release endorphins the bodys feelgood chemicals that combat depression and anxiety\",\n          \"weve got heat on the wayemoji fireemoji fireemoji firewere talking to  about student mental health after new data reveals a quarter of south africans suffer from depression weve also got the new  track and were testing s fake news detection capabilities pictwittercomfbbpnzlrqm\",\n          \"beeeeeeed\"\n        ],\n        \"semantic_type\": \"\",\n        \"description\": \"\"\n      }\n    },\n    {\n      \"column\": \"label\",\n      \"properties\": {\n        \"dtype\": \"number\",\n        \"std\": 0,\n        \"min\": 0,\n        \"max\": 1,\n        \"num_unique_values\": 2,\n        \"samples\": [\n          1,\n          0\n        ],\n        \"semantic_type\": \"\",\n        \"description\": \"\"\n      }\n    }\n  ]\n}"
            }
          },
          "metadata": {},
          "execution_count": 13
        }
      ]
    },
    {
      "cell_type": "markdown",
      "source": [
        "### Tokenisasi dan Padding\n",
        "Pada bagian ini, akan dilakukan tokenisasi dan padding. Tokenisasi adalah proses membuat urutan numerik pada kata dalam kolom `message to examine` untuk menangani struktut kalimat. Padding adalah proses untuk menyamakan panjang urutan numerik dari hasil tokenisasi sebelumnya untuk menjaga konsistensi input kalimat.\n",
        "\n",
        "Sebelumnya terdapat parameter dan hyperparameter yang digunakan pada proses-proses berikutnya:\n",
        "1. `vocab_size` : menentukan jumlah maksimum kata yang akan dimasukkan ke dalam kosakata model. Hanya kata-kata yang paling sering muncul dalam data pelatihan yang akan dimasukkan ke dalam kosakata ini.\n",
        "2. `embedding_dim` : menentukan ukuran dari vektor embedding yang akan digunakan untuk mewakili setiap kata agar dapat membantu model memahami hubungan antar kata dalam ruang vektor.\n",
        "3. `max_length` : menentukan panjang maksimum urutan kata yang akan diproses oleh model. Jika sebuah teks atau urutan kata lebih panjang dari max_length, teks tersebut akan dipotong (truncated) untuk memastikan semua input ke model memiliki panjang yang sama, yang penting untuk efisiensi dalam pemrosesan batch.\n",
        "4. `trunc_type` : mengatur bagaimana urutan yang lebih panjang dari max_length akan dipotong.\n",
        "5. `oov_tok` : token yang digunakan untuk mewakili kata-kata yang tidak termasuk dalam kosakata (vocab_size) sehingga membantu model menangani kata-kata yang tidak dikenal selama pelatihan atau inferensi.\n"
      ],
      "metadata": {
        "id": "et42zrX-wEcE"
      }
    },
    {
      "cell_type": "code",
      "source": [
        "# Parameter dan Hyperparameter\n",
        "vocab_size = 10000      # Ukuran kosakata minimum\n",
        "embedding_dim = 16      # Dimensi vektor embedding\n",
        "max_length = 120        # Panjang maksimum setelah padding\n",
        "trunc_type = 'post'     # Memotong akhir urutan yang melebihi max_length\n",
        "oov_tok = \"<OOV>\"       # Token kata-kata tidak dalam kosakata"
      ],
      "metadata": {
        "id": "cXVjS_wIcOOt"
      },
      "execution_count": 14,
      "outputs": []
    },
    {
      "cell_type": "code",
      "source": [
        "# Melakukan tokenisasi (urutan numerik)\n",
        "tokenizer = Tokenizer(num_words=vocab_size, oov_token=oov_tok)\n",
        "tokenizer.fit_on_texts(df['message to examine'])\n",
        "\n",
        "# Melakukan padding (menyamakan panjang urutan numerik)\n",
        "sequences = tokenizer.texts_to_sequences(df['message to examine'])\n",
        "padded = pad_sequences(sequences, maxlen=max_length, truncating=trunc_type)"
      ],
      "metadata": {
        "id": "v-Dx4H86chq1"
      },
      "execution_count": 15,
      "outputs": []
    },
    {
      "cell_type": "markdown",
      "source": [
        "### Pembagian Data Training dan Test\n",
        "`label` akan dipisahkan dari dataframe selanjutnya dataset akan dibagi dengan rasio 80:20 menggunakan fungsi `train_test_split`."
      ],
      "metadata": {
        "id": "JyZzHFg3wHx0"
      }
    },
    {
      "cell_type": "code",
      "source": [
        "# Memisahkan 'label' dari dataframe\n",
        "labels = df['label'].tolist()\n",
        "labels = np.array(labels)\n",
        "\n",
        "# Membagi dataset menjadi data training dan data test dengan rasio 80:20\n",
        "X_train, X_test, y_train, y_test = train_test_split(padded, labels, test_size=0.2, random_state=42)"
      ],
      "metadata": {
        "id": "n0Mgmw3LckVi"
      },
      "execution_count": 16,
      "outputs": []
    },
    {
      "cell_type": "code",
      "source": [
        "# Menampilkan jumlah sampel dalam masing-masing dataset\n",
        "print(f\"Jumlah sampel dalam data training: {len(X_train)}\")\n",
        "print(f\"Jumlah sampel dalam data testing: {len(X_test)}\")"
      ],
      "metadata": {
        "colab": {
          "base_uri": "https://localhost:8080/"
        },
        "id": "ZZuKk3qD35Ta",
        "outputId": "084b850f-e9d6-4b72-85fc-3e66494b080e"
      },
      "execution_count": 17,
      "outputs": [
        {
          "output_type": "stream",
          "name": "stdout",
          "text": [
            "Jumlah sampel dalam data training: 8228\n",
            "Jumlah sampel dalam data testing: 2058\n"
          ]
        }
      ]
    },
    {
      "cell_type": "markdown",
      "source": [
        "### Pembuatan Model"
      ],
      "metadata": {
        "id": "nMWkHGBpv6nX"
      }
    },
    {
      "cell_type": "markdown",
      "source": [
        "Model Long-Short Term Memory dibuat menggunakan Keras yang merupakan bagian dari TensorFlow. Model dibuat secara sequential (linier). Dapat dilihat model terdiri dari 4 layer:\n",
        "1. Layer embedding, untuk mengonversi setiap kata dalam urutan input menjadi vektor berdimensi.\n",
        "2. Layer LSTM 1, dengan 64 unit dan akan mengembalikan urutan output setiap timestep\n",
        "3. Layer LSTM 2. dengan 32 unit dan tidak mengembalikan urutan output setiap timestep\n",
        "4. Layer dense, dengan 1 unit untuk membuat output menjadi satu nilai tunggal dan fungsi aktivasi sigmoid untuk mengubah output menjadi nilai probabilitas antara 0 dan 1."
      ],
      "metadata": {
        "id": "4vH7NquJ9fvu"
      }
    },
    {
      "cell_type": "code",
      "source": [
        "# Membuat model LSTM\n",
        "model = tf.keras.Sequential([\n",
        "    tf.keras.layers.Embedding(vocab_size, embedding_dim, input_length=max_length),\n",
        "    tf.keras.layers.LSTM(64, return_sequences=True),\n",
        "    tf.keras.layers.LSTM(32),\n",
        "    tf.keras.layers.Dense(1, activation='sigmoid')\n",
        "])"
      ],
      "metadata": {
        "id": "PtJIONITcmzo",
        "colab": {
          "base_uri": "https://localhost:8080/"
        },
        "outputId": "5effecbb-4857-4975-d32b-0a1a03e3c874"
      },
      "execution_count": 18,
      "outputs": [
        {
          "output_type": "stream",
          "name": "stderr",
          "text": [
            "/usr/local/lib/python3.10/dist-packages/keras/src/layers/core/embedding.py:90: UserWarning: Argument `input_length` is deprecated. Just remove it.\n",
            "  warnings.warn(\n"
          ]
        }
      ]
    },
    {
      "cell_type": "code",
      "source": [
        "model.summary()"
      ],
      "metadata": {
        "id": "45aOA2SPY83L",
        "outputId": "93ab5ed4-189e-4fd0-fec3-c98bc3541e03",
        "colab": {
          "base_uri": "https://localhost:8080/",
          "height": 274
        }
      },
      "execution_count": 19,
      "outputs": [
        {
          "output_type": "display_data",
          "data": {
            "text/plain": [
              "\u001b[1mModel: \"sequential\"\u001b[0m\n"
            ],
            "text/html": [
              "<pre style=\"white-space:pre;overflow-x:auto;line-height:normal;font-family:Menlo,'DejaVu Sans Mono',consolas,'Courier New',monospace\"><span style=\"font-weight: bold\">Model: \"sequential\"</span>\n",
              "</pre>\n"
            ]
          },
          "metadata": {}
        },
        {
          "output_type": "display_data",
          "data": {
            "text/plain": [
              "┏━━━━━━━━━━━━━━━━━━━━━━━━━━━━━━━━━━━━━━┳━━━━━━━━━━━━━━━━━━━━━━━━━━━━━┳━━━━━━━━━━━━━━━━━┓\n",
              "┃\u001b[1m \u001b[0m\u001b[1mLayer (type)                        \u001b[0m\u001b[1m \u001b[0m┃\u001b[1m \u001b[0m\u001b[1mOutput Shape               \u001b[0m\u001b[1m \u001b[0m┃\u001b[1m \u001b[0m\u001b[1m        Param #\u001b[0m\u001b[1m \u001b[0m┃\n",
              "┡━━━━━━━━━━━━━━━━━━━━━━━━━━━━━━━━━━━━━━╇━━━━━━━━━━━━━━━━━━━━━━━━━━━━━╇━━━━━━━━━━━━━━━━━┩\n",
              "│ embedding (\u001b[38;5;33mEmbedding\u001b[0m)                │ ?                           │     \u001b[38;5;34m0\u001b[0m (unbuilt) │\n",
              "├──────────────────────────────────────┼─────────────────────────────┼─────────────────┤\n",
              "│ lstm (\u001b[38;5;33mLSTM\u001b[0m)                          │ ?                           │     \u001b[38;5;34m0\u001b[0m (unbuilt) │\n",
              "├──────────────────────────────────────┼─────────────────────────────┼─────────────────┤\n",
              "│ lstm_1 (\u001b[38;5;33mLSTM\u001b[0m)                        │ ?                           │     \u001b[38;5;34m0\u001b[0m (unbuilt) │\n",
              "├──────────────────────────────────────┼─────────────────────────────┼─────────────────┤\n",
              "│ dense (\u001b[38;5;33mDense\u001b[0m)                        │ ?                           │     \u001b[38;5;34m0\u001b[0m (unbuilt) │\n",
              "└──────────────────────────────────────┴─────────────────────────────┴─────────────────┘\n"
            ],
            "text/html": [
              "<pre style=\"white-space:pre;overflow-x:auto;line-height:normal;font-family:Menlo,'DejaVu Sans Mono',consolas,'Courier New',monospace\">┏━━━━━━━━━━━━━━━━━━━━━━━━━━━━━━━━━━━━━━┳━━━━━━━━━━━━━━━━━━━━━━━━━━━━━┳━━━━━━━━━━━━━━━━━┓\n",
              "┃<span style=\"font-weight: bold\"> Layer (type)                         </span>┃<span style=\"font-weight: bold\"> Output Shape                </span>┃<span style=\"font-weight: bold\">         Param # </span>┃\n",
              "┡━━━━━━━━━━━━━━━━━━━━━━━━━━━━━━━━━━━━━━╇━━━━━━━━━━━━━━━━━━━━━━━━━━━━━╇━━━━━━━━━━━━━━━━━┩\n",
              "│ embedding (<span style=\"color: #0087ff; text-decoration-color: #0087ff\">Embedding</span>)                │ ?                           │     <span style=\"color: #00af00; text-decoration-color: #00af00\">0</span> (unbuilt) │\n",
              "├──────────────────────────────────────┼─────────────────────────────┼─────────────────┤\n",
              "│ lstm (<span style=\"color: #0087ff; text-decoration-color: #0087ff\">LSTM</span>)                          │ ?                           │     <span style=\"color: #00af00; text-decoration-color: #00af00\">0</span> (unbuilt) │\n",
              "├──────────────────────────────────────┼─────────────────────────────┼─────────────────┤\n",
              "│ lstm_1 (<span style=\"color: #0087ff; text-decoration-color: #0087ff\">LSTM</span>)                        │ ?                           │     <span style=\"color: #00af00; text-decoration-color: #00af00\">0</span> (unbuilt) │\n",
              "├──────────────────────────────────────┼─────────────────────────────┼─────────────────┤\n",
              "│ dense (<span style=\"color: #0087ff; text-decoration-color: #0087ff\">Dense</span>)                        │ ?                           │     <span style=\"color: #00af00; text-decoration-color: #00af00\">0</span> (unbuilt) │\n",
              "└──────────────────────────────────────┴─────────────────────────────┴─────────────────┘\n",
              "</pre>\n"
            ]
          },
          "metadata": {}
        },
        {
          "output_type": "display_data",
          "data": {
            "text/plain": [
              "\u001b[1m Total params: \u001b[0m\u001b[38;5;34m0\u001b[0m (0.00 B)\n"
            ],
            "text/html": [
              "<pre style=\"white-space:pre;overflow-x:auto;line-height:normal;font-family:Menlo,'DejaVu Sans Mono',consolas,'Courier New',monospace\"><span style=\"font-weight: bold\"> Total params: </span><span style=\"color: #00af00; text-decoration-color: #00af00\">0</span> (0.00 B)\n",
              "</pre>\n"
            ]
          },
          "metadata": {}
        },
        {
          "output_type": "display_data",
          "data": {
            "text/plain": [
              "\u001b[1m Trainable params: \u001b[0m\u001b[38;5;34m0\u001b[0m (0.00 B)\n"
            ],
            "text/html": [
              "<pre style=\"white-space:pre;overflow-x:auto;line-height:normal;font-family:Menlo,'DejaVu Sans Mono',consolas,'Courier New',monospace\"><span style=\"font-weight: bold\"> Trainable params: </span><span style=\"color: #00af00; text-decoration-color: #00af00\">0</span> (0.00 B)\n",
              "</pre>\n"
            ]
          },
          "metadata": {}
        },
        {
          "output_type": "display_data",
          "data": {
            "text/plain": [
              "\u001b[1m Non-trainable params: \u001b[0m\u001b[38;5;34m0\u001b[0m (0.00 B)\n"
            ],
            "text/html": [
              "<pre style=\"white-space:pre;overflow-x:auto;line-height:normal;font-family:Menlo,'DejaVu Sans Mono',consolas,'Courier New',monospace\"><span style=\"font-weight: bold\"> Non-trainable params: </span><span style=\"color: #00af00; text-decoration-color: #00af00\">0</span> (0.00 B)\n",
              "</pre>\n"
            ]
          },
          "metadata": {}
        }
      ]
    },
    {
      "cell_type": "markdown",
      "source": [
        "### Pelatihan Model\n",
        "Model akan dilatih dengan\n",
        "1. fungsi loss `binary_crossentropy`, untuk lasifikasi biner,\n",
        "2. optimasi `adam`, optimasi yaang adaptif\n",
        "3. metrik `accuracy`, untuk menilai kinerja model berupa persentase prediksi benar diandingkan total prediksi yang dibuat."
      ],
      "metadata": {
        "id": "AA9TpQHPv9-W"
      }
    },
    {
      "cell_type": "code",
      "source": [
        "# Mengompilasi model\n",
        "model.compile(loss='binary_crossentropy', optimizer='adam', metrics=['accuracy'])"
      ],
      "metadata": {
        "id": "VMGbgudHcorL"
      },
      "execution_count": 20,
      "outputs": []
    },
    {
      "cell_type": "code",
      "source": [
        "# Melatih model\n",
        "history = model.fit(X_train, y_train,\n",
        "                    epochs=10, batch_size=64,\n",
        "                    validation_data=(X_test, y_test))"
      ],
      "metadata": {
        "colab": {
          "base_uri": "https://localhost:8080/"
        },
        "id": "xeDkCSs1cqvI",
        "outputId": "82ddf27c-c9fd-4ea9-87fa-3c840401e337"
      },
      "execution_count": 21,
      "outputs": [
        {
          "output_type": "stream",
          "name": "stdout",
          "text": [
            "Epoch 1/10\n",
            "\u001b[1m129/129\u001b[0m \u001b[32m━━━━━━━━━━━━━━━━━━━━\u001b[0m\u001b[37m\u001b[0m \u001b[1m43s\u001b[0m 219ms/step - accuracy: 0.7863 - loss: 0.4911 - val_accuracy: 0.9723 - val_loss: 0.0849\n",
            "Epoch 2/10\n",
            "\u001b[1m129/129\u001b[0m \u001b[32m━━━━━━━━━━━━━━━━━━━━\u001b[0m\u001b[37m\u001b[0m \u001b[1m18s\u001b[0m 143ms/step - accuracy: 0.9882 - loss: 0.0493 - val_accuracy: 0.9917 - val_loss: 0.0317\n",
            "Epoch 3/10\n",
            "\u001b[1m129/129\u001b[0m \u001b[32m━━━━━━━━━━━━━━━━━━━━\u001b[0m\u001b[37m\u001b[0m \u001b[1m19s\u001b[0m 133ms/step - accuracy: 0.9932 - loss: 0.0238 - val_accuracy: 0.9849 - val_loss: 0.0427\n",
            "Epoch 4/10\n",
            "\u001b[1m129/129\u001b[0m \u001b[32m━━━━━━━━━━━━━━━━━━━━\u001b[0m\u001b[37m\u001b[0m \u001b[1m18s\u001b[0m 138ms/step - accuracy: 0.9980 - loss: 0.0093 - val_accuracy: 0.9864 - val_loss: 0.0402\n",
            "Epoch 5/10\n",
            "\u001b[1m129/129\u001b[0m \u001b[32m━━━━━━━━━━━━━━━━━━━━\u001b[0m\u001b[37m\u001b[0m \u001b[1m19s\u001b[0m 146ms/step - accuracy: 0.9979 - loss: 0.0098 - val_accuracy: 0.9913 - val_loss: 0.0303\n",
            "Epoch 6/10\n",
            "\u001b[1m129/129\u001b[0m \u001b[32m━━━━━━━━━━━━━━━━━━━━\u001b[0m\u001b[37m\u001b[0m \u001b[1m19s\u001b[0m 134ms/step - accuracy: 0.9987 - loss: 0.0076 - val_accuracy: 0.9864 - val_loss: 0.0410\n",
            "Epoch 7/10\n",
            "\u001b[1m129/129\u001b[0m \u001b[32m━━━━━━━━━━━━━━━━━━━━\u001b[0m\u001b[37m\u001b[0m \u001b[1m17s\u001b[0m 135ms/step - accuracy: 0.9997 - loss: 0.0023 - val_accuracy: 0.9922 - val_loss: 0.0353\n",
            "Epoch 8/10\n",
            "\u001b[1m129/129\u001b[0m \u001b[32m━━━━━━━━━━━━━━━━━━━━\u001b[0m\u001b[37m\u001b[0m \u001b[1m19s\u001b[0m 144ms/step - accuracy: 0.9994 - loss: 0.0026 - val_accuracy: 0.9903 - val_loss: 0.0422\n",
            "Epoch 9/10\n",
            "\u001b[1m129/129\u001b[0m \u001b[32m━━━━━━━━━━━━━━━━━━━━\u001b[0m\u001b[37m\u001b[0m \u001b[1m19s\u001b[0m 135ms/step - accuracy: 0.9995 - loss: 0.0015 - val_accuracy: 0.9922 - val_loss: 0.0398\n",
            "Epoch 10/10\n",
            "\u001b[1m129/129\u001b[0m \u001b[32m━━━━━━━━━━━━━━━━━━━━\u001b[0m\u001b[37m\u001b[0m \u001b[1m18s\u001b[0m 143ms/step - accuracy: 0.9995 - loss: 0.0026 - val_accuracy: 0.9879 - val_loss: 0.0496\n"
          ]
        }
      ]
    },
    {
      "cell_type": "markdown",
      "source": [
        "### Evaluasi"
      ],
      "metadata": {
        "id": "x1jC217S293m"
      }
    },
    {
      "cell_type": "code",
      "source": [
        "# Menampilkan grafik history\n",
        "def plot_history(history):\n",
        "    # Mengambil nilai loss dan akurasi dari history\n",
        "    loss = history.history['loss']\n",
        "    val_loss = history.history['val_loss']\n",
        "    accuracy = history.history['accuracy']\n",
        "    val_accuracy = history.history['val_accuracy']\n",
        "\n",
        "    # Menghitung jumlah epoch\n",
        "    epochs = range(1, len(loss) + 1)\n",
        "\n",
        "    # Plotting loss\n",
        "    plt.figure(figsize=(12, 5))\n",
        "    plt.subplot(1, 2, 1)\n",
        "    plt.plot(epochs, loss, 'r', label='Training loss')\n",
        "    plt.plot(epochs, val_loss, 'b', label='Validation loss')\n",
        "    plt.title('Training and validation loss')\n",
        "    plt.xlabel('Epochs')\n",
        "    plt.ylabel('Loss')\n",
        "    plt.legend()\n",
        "\n",
        "    # Plotting accuracy\n",
        "    plt.subplot(1, 2, 2)\n",
        "    plt.plot(epochs, accuracy, 'r', label='Training accuracy')\n",
        "    plt.plot(epochs, val_accuracy, 'b', label='Validation accuracy')\n",
        "    plt.title('Training and validation accuracy')\n",
        "    plt.xlabel('Epochs')\n",
        "    plt.ylabel('Accuracy')\n",
        "    plt.legend()\n",
        "\n",
        "    # Menampilkan grafik\n",
        "    plt.tight_layout()\n",
        "    plt.show()\n",
        "\n",
        "plot_history(history)"
      ],
      "metadata": {
        "id": "iiRTtyYpcsnQ",
        "colab": {
          "base_uri": "https://localhost:8080/",
          "height": 283
        },
        "outputId": "dc945058-3a57-454b-84c5-e7528a583f04"
      },
      "execution_count": 22,
      "outputs": [
        {
          "output_type": "display_data",
          "data": {
            "text/plain": [
              "<Figure size 1200x500 with 2 Axes>"
            ],
            "image/png": "[encoded data removed]"
          },
          "metadata": {}
        }
      ]
    },
    {
      "cell_type": "markdown",
      "source": [
        "Dar grafik di atas dapat kita lihat bahwa model bekerja dengan baik pada pelatihan kedua dan mencapai kinerja terbaik pada pelatihan ke-5."
      ],
      "metadata": {
        "id": "Rov7DDD-_hON"
      }
    },
    {
      "cell_type": "code",
      "source": [
        "loss, accuracy = model.evaluate(X_test, y_test)\n",
        "print(f'Akurasi pada data uji: {accuracy:.4f}')"
      ],
      "metadata": {
        "id": "TBMnMEJbeuzT",
        "outputId": "8e4f9465-8d9f-4c7b-aa4b-fdab451d375e",
        "colab": {
          "base_uri": "https://localhost:8080/"
        }
      },
      "execution_count": 23,
      "outputs": [
        {
          "output_type": "stream",
          "name": "stdout",
          "text": [
            "\u001b[1m65/65\u001b[0m \u001b[32m━━━━━━━━━━━━━━━━━━━━\u001b[0m\u001b[37m\u001b[0m \u001b[1m2s\u001b[0m 30ms/step - accuracy: 0.9915 - loss: 0.0380\n",
            "Akurasi pada data uji: 0.9879\n"
          ]
        }
      ]
    },
    {
      "cell_type": "code",
      "source": [
        "# Predict on the test set\n",
        "y_pred = model.predict(X_test)\n",
        "y_pred = (y_pred > 0.5).astype(\"int32\")"
      ],
      "metadata": {
        "colab": {
          "base_uri": "https://localhost:8080/"
        },
        "id": "32Vy0kMx2FXY",
        "outputId": "b572bd45-9717-4594-b695-c18ba99a17a8"
      },
      "execution_count": 24,
      "outputs": [
        {
          "output_type": "stream",
          "name": "stdout",
          "text": [
            "\u001b[1m65/65\u001b[0m \u001b[32m━━━━━━━━━━━━━━━━━━━━\u001b[0m\u001b[37m\u001b[0m \u001b[1m2s\u001b[0m 32ms/step\n"
          ]
        }
      ]
    },
    {
      "cell_type": "markdown",
      "source": [
        "Berdasarkan classification report di bawah, dapat dipahami hal berikut tentang model:\n",
        "*   Nilai presisi dan recall yang tinggi di kedua label menandakan bahwa model memiliki keseimbangan yang baik antara mendeteksi tweet yang benar-benar mengandung tanda-tanda depresi dan menghindari kesalahan klasifikasi.\n",
        "* Skor F1 dari masing-masing label yang tinggi menunjukkan bahwa model memiliki performa yang konsisten dan dapat diandalkan dalam situasi yang memerlukan keseimbangan antara precision dan recal\n",
        "\n"
      ],
      "metadata": {
        "id": "-4Sbtt5YAFQv"
      }
    },
    {
      "cell_type": "code",
      "source": [
        "# Generate classification report\n",
        "report = classification_report(y_test, y_pred, target_names=['Tidak ada tanda depresi', 'Ada tanda depresi'])\n",
        "print(report)"
      ],
      "metadata": {
        "colab": {
          "base_uri": "https://localhost:8080/"
        },
        "id": "nJ-3DcP42I3l",
        "outputId": "bdf46cb0-8be8-4601-8f74-e6ab1733c0e1"
      },
      "execution_count": 25,
      "outputs": [
        {
          "output_type": "stream",
          "name": "stdout",
          "text": [
            "                         precision    recall  f1-score   support\n",
            "\n",
            "Tidak ada tanda depresi       0.99      0.99      0.99      1589\n",
            "      Ada tanda depresi       0.97      0.98      0.97       469\n",
            "\n",
            "               accuracy                           0.99      2058\n",
            "              macro avg       0.98      0.98      0.98      2058\n",
            "           weighted avg       0.99      0.99      0.99      2058\n",
            "\n"
          ]
        }
      ]
    },
    {
      "cell_type": "markdown",
      "source": [
        "Selanjutnya kita bisa melihat actual label yang disandingkan dengan predicted label untuk melihat lebih jelas kecocokan pada kinerja model."
      ],
      "metadata": {
        "id": "iNULJSQDBe-1"
      }
    },
    {
      "cell_type": "code",
      "source": [
        "# Display some sample predictions\n",
        "sample_data = pd.DataFrame({'Text': tokenizer.sequences_to_texts(X_test[:10]),\n",
        "                            'Actual Label': y_test[:10],\n",
        "                            'Predicted Label': y_pred[:10].flatten()})\n",
        "\n",
        "print(sample_data)"
      ],
      "metadata": {
        "colab": {
          "base_uri": "https://localhost:8080/"
        },
        "id": "sAvZthBg2kPv",
        "outputId": "3fc12b46-b735-4cf5-c1bd-531d17b76c74"
      },
      "execution_count": 26,
      "outputs": [
        {
          "output_type": "stream",
          "name": "stdout",
          "text": [
            "                                                Text  Actual Label  \\\n",
            "0  <OOV> <OOV> <OOV> <OOV> <OOV> <OOV> <OOV> <OOV...             0   \n",
            "1  <OOV> <OOV> <OOV> <OOV> <OOV> <OOV> <OOV> <OOV...             1   \n",
            "2  <OOV> <OOV> <OOV> <OOV> <OOV> <OOV> <OOV> <OOV...             0   \n",
            "3  <OOV> <OOV> <OOV> <OOV> <OOV> <OOV> <OOV> <OOV...             0   \n",
            "4  <OOV> <OOV> <OOV> <OOV> <OOV> <OOV> <OOV> <OOV...             1   \n",
            "5  <OOV> <OOV> <OOV> <OOV> <OOV> <OOV> <OOV> <OOV...             0   \n",
            "6  <OOV> <OOV> <OOV> <OOV> <OOV> <OOV> <OOV> <OOV...             1   \n",
            "7  <OOV> <OOV> <OOV> <OOV> <OOV> <OOV> <OOV> <OOV...             0   \n",
            "8  <OOV> <OOV> <OOV> <OOV> <OOV> <OOV> <OOV> <OOV...             0   \n",
            "9  <OOV> <OOV> <OOV> <OOV> <OOV> <OOV> <OOV> <OOV...             0   \n",
            "\n",
            "   Predicted Label  \n",
            "0                0  \n",
            "1                1  \n",
            "2                0  \n",
            "3                0  \n",
            "4                1  \n",
            "5                0  \n",
            "6                1  \n",
            "7                0  \n",
            "8                0  \n",
            "9                0  \n"
          ]
        }
      ]
    },
    {
      "cell_type": "markdown",
      "source": [
        "Evaluasi model juga dibuat dengan\n",
        "menggunakan matriks kebingungan\n",
        "(confusion matriks).\n",
        "\n",
        "\n",
        "*   Jumlah true positive (ada tanda depresi dan diklasifikasikan sebagai ada tanda depresi oleh model) berjumlah 460.\n",
        "* Jumlah false positive (ada tanda depresi namun tidak diklasifikasikan sebagai ada tanda depresi oleh model) berjumlah 9.\n",
        "* Jumlah true negative (tidak ada tanda depresi dan diklasifikasikan sebagai tidak ada tanda depresi oleh model) berjumlah 1579.\n",
        "* Jumlah false negative (tidak ada tanda\n",
        "depresi namun diklasifikasikan sebagai ada tanda depresi oleh model) berjumlah 10.\n",
        "\n"
      ],
      "metadata": {
        "id": "IYOMCp71BpBk"
      }
    },
    {
      "cell_type": "code",
      "source": [
        "# Menampilkan matriks kebingungan\n",
        "conf_matrix = confusion_matrix(y_test, y_pred)\n",
        "\n",
        "plt.figure(figsize=(10, 7))\n",
        "sns.heatmap(conf_matrix, annot=True, fmt='d', cmap='Blues', xticklabels=['Tidak ada tanda depresi', 'Ada tanda depresi'], yticklabels=['Tidak ada tanda depresi', 'Ada tanda depresi'])\n",
        "plt.xlabel('Predicted Label')\n",
        "plt.ylabel('True Label')\n",
        "plt.title('Confusion Matrix')\n",
        "plt.show()"
      ],
      "metadata": {
        "colab": {
          "base_uri": "https://localhost:8080/",
          "height": 525
        },
        "id": "ay2Ki2Ri3Ei_",
        "outputId": "95aacd84-0bb7-4039-b614-1458bf29b05c"
      },
      "execution_count": 31,
      "outputs": [
        {
          "output_type": "display_data",
          "data": {
            "text/plain": [
              "<Figure size 1000x700 with 2 Axes>"
            ],
            "image/png": "[encoded data removed]"
          },
          "metadata": {}
        }
      ]
    },
    {
      "cell_type": "markdown",
      "source": [
        "### Prediksi Data Baru"
      ],
      "metadata": {
        "id": "x3drp5JW05Mc"
      }
    },
    {
      "cell_type": "markdown",
      "source": [
        "Di sini, kami mencoba memasukkan data baru untuk melihat apakah model bisa memprediksi data baru."
      ],
      "metadata": {
        "id": "VagUXNLtCGuz"
      }
    },
    {
      "cell_type": "code",
      "source": [
        "# Mendefinisikan fungsi prediksi sentimen baru\n",
        "def predict_sentiment(text):\n",
        "    # Preprocessing teks\n",
        "    processed_text = preprocess_text(text)\n",
        "\n",
        "    # Tokenisasi dan padding\n",
        "    sequence = tokenizer.texts_to_sequences([processed_text])\n",
        "    padded_sequence = pad_sequences(sequence, maxlen=max_length, truncating=trunc_type)\n",
        "\n",
        "    # Prediksi\n",
        "    prediction = model.predict(padded_sequence)\n",
        "\n",
        "    # Mengubah probabilitas menjadi label\n",
        "    sentiment = 'Ada tanda depresi' if prediction[0] < 0.5 else 'Tidak ada tanda depresi'\n",
        "    return sentiment"
      ],
      "metadata": {
        "id": "mlO2r9h107Ch"
      },
      "execution_count": 28,
      "outputs": []
    },
    {
      "cell_type": "code",
      "source": [
        "new_text = \"I feel super sad and lonely\"\n",
        "sentiment = predict_sentiment(new_text)\n",
        "print(f'Sentimen dari teks baru: {sentiment}')"
      ],
      "metadata": {
        "id": "KvvgI3131m62",
        "colab": {
          "base_uri": "https://localhost:8080/"
        },
        "outputId": "5e9ec82b-3a96-484b-d58f-da03eb731b94"
      },
      "execution_count": 29,
      "outputs": [
        {
          "output_type": "stream",
          "name": "stdout",
          "text": [
            "\u001b[1m1/1\u001b[0m \u001b[32m━━━━━━━━━━━━━━━━━━━━\u001b[0m\u001b[37m\u001b[0m \u001b[1m0s\u001b[0m 29ms/step\n",
            "Sentimen dari teks baru: Ada tanda depresi\n"
          ]
        }
      ]
    },
    {
      "cell_type": "markdown",
      "source": [
        "### Menyimpan Model"
      ],
      "metadata": {
        "id": "idEVDuzWtIwa"
      }
    },
    {
      "cell_type": "code",
      "source": [
        "# Save the model into H5\n",
        "from tensorflow.keras.models import save_model\n",
        "\n",
        "model.save('TweetSentimentAnalysis.h5')"
      ],
      "metadata": {
        "colab": {
          "base_uri": "https://localhost:8080/"
        },
        "id": "W6TuzU_l1q0B",
        "outputId": "0344e843-03c0-4fb1-938a-c9c282d68ff2"
      },
      "execution_count": 34,
      "outputs": [
        {
          "output_type": "stream",
          "name": "stderr",
          "text": [
            "WARNING:absl:You are saving your model as an HDF5 file via `model.save()` or `keras.saving.save_model(model)`. This file format is considered legacy. We recommend using instead the native Keras format, e.g. `model.save('my_model.keras')` or `keras.saving.save_model(model, 'my_model.keras')`. \n"
          ]
        }
      ]
    }
  ]
}